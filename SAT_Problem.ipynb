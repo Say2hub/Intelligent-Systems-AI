{
  "nbformat": 4,
  "nbformat_minor": 0,
  "metadata": {
    "colab": {
      "provenance": []
    },
    "kernelspec": {
      "name": "python3",
      "display_name": "Python 3"
    },
    "language_info": {
      "name": "python"
    }
  },
  "cells": [
    {
      "cell_type": "markdown",
      "source": [
        "###*Sayantan Mukherjee 60009220131 D2-2*"
      ],
      "metadata": {
        "id": "SeFDQD9gSR0X"
      }
    },
    {
      "cell_type": "code",
      "execution_count": 1,
      "metadata": {
        "id": "yTtDngDkPuIp"
      },
      "outputs": [],
      "source": [
        "import random\n",
        "\n",
        "# Function to check if a clause is satisfied\n",
        "def check_clause(clause, assignment):\n",
        "    result = False\n",
        "    for var in clause:\n",
        "        if var > 0:  # Positive variable (e.g., A)\n",
        "            result |= assignment[abs(var) - 1]\n",
        "        else:  # Negative variable (e.g., ¬A)\n",
        "            result |= not assignment[abs(var) - 1]\n",
        "    return result"
      ]
    },
    {
      "cell_type": "code",
      "source": [
        "# Function to check if all clauses are satisfied\n",
        "def check_sat(clauses, assignment):\n",
        "    return all(check_clause(clause, assignment) for clause in clauses)"
      ],
      "metadata": {
        "id": "cud6UIADQFhe"
      },
      "execution_count": 2,
      "outputs": []
    },
    {
      "cell_type": "code",
      "source": [
        "def VND(clauses, num_vars, max_iter=1000):\n",
        "    assignment = [random.choice([True, False]) for _ in range(num_vars)]\n",
        "\n",
        "    # VND loop: iteratively improve the solution\n",
        "    for _ in range(max_iter):\n",
        "        if check_sat(clauses, assignment):\n",
        "            return assignment  # Return if solution is found\n",
        "\n",
        "        # Explore neighborhoods (i.e., tweak variables)\n",
        "        for i in range(num_vars):\n",
        "            # Flip one variable and check if it improves the solution\n",
        "            assignment[i] = not assignment[i]\n",
        "            if check_sat(clauses, assignment):\n",
        "                return assignment  # Return if solution is found\n",
        "            else:\n",
        "                # Revert the change if it didn't help\n",
        "                assignment[i] = not assignment[i]\n",
        "\n",
        "    return assignment"
      ],
      "metadata": {
        "id": "bS_RyjcyQLJC"
      },
      "execution_count": 5,
      "outputs": []
    },
    {
      "cell_type": "markdown",
      "source": [
        "###*SAT PROBLEM 1*"
      ],
      "metadata": {
        "id": "XaJ8GGC3Qr5H"
      }
    },
    {
      "cell_type": "code",
      "source": [
        "clauses_1 = [\n",
        "    [1, -2],     # (A ∨ ¬B)\n",
        "    [2, -3],     # (B ∨ ¬C)\n",
        "    [-2],        # (¬B)\n",
        "    [-3, 5],     # (¬C ∨ E)\n",
        "    [1, 3],      # (A ∨ C)\n",
        "    [-3, -4]     # (¬C ∨ ¬D)\n",
        "]\n",
        "num_vars_1 = 5"
      ],
      "metadata": {
        "id": "zKVS6qlWQ3ut"
      },
      "execution_count": 6,
      "outputs": []
    },
    {
      "cell_type": "code",
      "source": [
        "solution_1 = VND(clauses_1, num_vars_1)\n",
        "print(\"Solution for Problem 1:\", solution_1)"
      ],
      "metadata": {
        "colab": {
          "base_uri": "https://localhost:8080/"
        },
        "id": "MsRLbCZ2RAif",
        "outputId": "dd729033-63a1-48fa-bceb-df68fb10a521"
      },
      "execution_count": 7,
      "outputs": [
        {
          "output_type": "stream",
          "name": "stdout",
          "text": [
            "Solution for Problem 1: [True, False, False, True, False]\n"
          ]
        }
      ]
    },
    {
      "cell_type": "markdown",
      "source": [
        "###*SAT PROBLEM 2*"
      ],
      "metadata": {
        "id": "H1QuMhlnRGu2"
      }
    },
    {
      "cell_type": "code",
      "source": [
        "clauses_2 = [\n",
        "    [1, 2],      # (A ∨ B)\n",
        "    [1, -3],     # (A ∧ ¬C) => (A ∨ ¬C)\n",
        "    [2, 4],      # (B ∧ D)\n",
        "    [1, -5]      # (A ∨ ¬E)\n",
        "]\n",
        "num_vars_2 = 5"
      ],
      "metadata": {
        "id": "AX2rKBZjRJlY"
      },
      "execution_count": 8,
      "outputs": []
    },
    {
      "cell_type": "code",
      "source": [
        "solution_2 = VND(clauses_2, num_vars_2)\n",
        "print(\"Solution for Problem 2:\", solution_2)"
      ],
      "metadata": {
        "colab": {
          "base_uri": "https://localhost:8080/"
        },
        "id": "WFneqaUdRTiG",
        "outputId": "03563ff3-fd0b-4753-973f-19e11c22da18"
      },
      "execution_count": 9,
      "outputs": [
        {
          "output_type": "stream",
          "name": "stdout",
          "text": [
            "Solution for Problem 2: [True, True, False, True, True]\n"
          ]
        }
      ]
    },
    {
      "cell_type": "markdown",
      "source": [
        "###*Conclusion:*\n",
        "\n",
        "*The satisfiability problem is more than just a theoretical exercise; it provides a powerful framework for tackling a wide range of real-world problems that involve decision-making, optimization, and verification. By determining whether certain conditions can be satisfied simultaneously, SAT helps drive progress in various domains like computer science, engineering, artificial intelligence, and more*\n",
        "\n",
        "###*Some of the applications of Sat*\n",
        "\n",
        "*1-Solving Complex Decision Problems*\n",
        "\n",
        "*2-Optimization*\n",
        "\n",
        "*3-Foundation for NP Complete Platforms*\n",
        "\n",
        "\n",
        "\n",
        "\n",
        "\n",
        "\n",
        "\n",
        "\n",
        "\n",
        "\n"
      ],
      "metadata": {
        "id": "YP113addRnYA"
      }
    }
  ]
}