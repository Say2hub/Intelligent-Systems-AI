{
  "nbformat": 4,
  "nbformat_minor": 0,
  "metadata": {
    "colab": {
      "provenance": []
    },
    "kernelspec": {
      "name": "python3",
      "display_name": "Python 3"
    },
    "language_info": {
      "name": "python"
    }
  },
  "cells": [
    {
      "cell_type": "markdown",
      "source": [
        "###*Sayantan Mukherjee 60009220131 D2-2*"
      ],
      "metadata": {
        "id": "_0R6zsxNvy94"
      }
    },
    {
      "cell_type": "code",
      "source": [
        "!pip install scikit-fuzzy\n"
      ],
      "metadata": {
        "colab": {
          "base_uri": "https://localhost:8080/"
        },
        "id": "RN7qJLMWvxsy",
        "outputId": "f105ef80-fbc8-4f2b-d6d5-d8450d9f63d7"
      },
      "execution_count": 14,
      "outputs": [
        {
          "output_type": "stream",
          "name": "stdout",
          "text": [
            "Requirement already satisfied: scikit-fuzzy in /usr/local/lib/python3.10/dist-packages (0.5.0)\n"
          ]
        }
      ]
    },
    {
      "cell_type": "code",
      "execution_count": 15,
      "metadata": {
        "id": "DRUbId_cvNc8"
      },
      "outputs": [],
      "source": [
        "import numpy as np\n",
        "import skfuzzy as fuzz\n",
        "from skfuzzy import control as ctrl\n",
        "\n",
        "# Step 1: Define the universe of discourse for the inputs and output\n",
        "dirt = ctrl.Antecedent(np.arange(0, 11, 1), 'Dirt')\n",
        "grease = ctrl.Antecedent(np.arange(0, 11, 1), 'Grease')\n",
        "wash_time = ctrl.Consequent(np.arange(0, 61, 1), 'Wash Time')"
      ]
    },
    {
      "cell_type": "code",
      "source": [
        "# Step 2: Define the membership functions for Dirt\n",
        "dirt['Low'] = fuzz.trimf(dirt.universe, [0, 0, 4])\n",
        "dirt['Medium'] = fuzz.trimf(dirt.universe, [2, 4, 6])\n",
        "dirt['High'] = fuzz.trimf(dirt.universe, [4, 10, 10])"
      ],
      "metadata": {
        "id": "Zgvvw22Tv-Ux"
      },
      "execution_count": 16,
      "outputs": []
    },
    {
      "cell_type": "code",
      "source": [
        "# Step 3: Define the membership functions for Grease\n",
        "grease['Low'] = fuzz.trimf(grease.universe, [0, 0, 4])\n",
        "grease['Medium'] = fuzz.trimf(grease.universe, [2, 4, 6])\n",
        "grease['High'] = fuzz.trimf(grease.universe, [4, 10, 10])"
      ],
      "metadata": {
        "id": "Cu3T9-Pdv_Nf"
      },
      "execution_count": 17,
      "outputs": []
    },
    {
      "cell_type": "code",
      "source": [
        "# Step 4: Define the membership functions for Wash Time\n",
        "wash_time['Very Short'] = fuzz.trimf(wash_time.universe, [0, 0, 10])\n",
        "wash_time['Short'] = fuzz.trimf(wash_time.universe, [5, 10, 20])\n",
        "wash_time['Medium'] = fuzz.trimf(wash_time.universe, [15, 20, 30])\n",
        "wash_time['Long'] = fuzz.trimf(wash_time.universe, [25, 30, 40])\n",
        "wash_time['Very Long'] = fuzz.trimf(wash_time.universe, [35, 60, 60])"
      ],
      "metadata": {
        "id": "RjPr5MV3v_qY"
      },
      "execution_count": 18,
      "outputs": []
    },
    {
      "cell_type": "code",
      "source": [
        "# Step 5: Define the fuzzy rules\n",
        "rule1 = ctrl.Rule(dirt['Low'] & grease['Low'], wash_time['Very Short'])\n",
        "rule2 = ctrl.Rule(dirt['Low'] & grease['Medium'], wash_time['Short'])\n",
        "rule3 = ctrl.Rule(dirt['Low'] & grease['High'], wash_time['Medium'])\n",
        "rule4 = ctrl.Rule(dirt['Medium'] & grease['Low'], wash_time['Short'])\n",
        "rule5 = ctrl.Rule(dirt['Medium'] & grease['Medium'], wash_time['Medium'])\n",
        "rule6 = ctrl.Rule(dirt['Medium'] & grease['High'], wash_time['Long'])\n",
        "rule7 = ctrl.Rule(dirt['High'] & grease['Low'], wash_time['Medium'])\n",
        "rule8 = ctrl.Rule(dirt['High'] & grease['Medium'], wash_time['Long'])\n",
        "rule9 = ctrl.Rule(dirt['High'] & grease['High'], wash_time['Very Long'])"
      ],
      "metadata": {
        "id": "99hJdI2Ev_8i"
      },
      "execution_count": 19,
      "outputs": []
    },
    {
      "cell_type": "code",
      "source": [
        "# Step 6:Control system\n",
        "washing_control = ctrl.ControlSystem([rule1, rule2, rule3, rule4, rule5, rule6, rule7, rule8, rule9])\n",
        "washing = ctrl.ControlSystemSimulation(washing_control)"
      ],
      "metadata": {
        "id": "9nRWqW0awAOo"
      },
      "execution_count": 20,
      "outputs": []
    },
    {
      "cell_type": "code",
      "source": [
        "# Step 7: Simulate the fuzzy controller\n",
        "# Example input values\n",
        "washing.input['Dirt'] = 3  # Example dirt level\n",
        "washing.input['Grease'] = 5  # Example grease level"
      ],
      "metadata": {
        "id": "ctxWujq5wAhM"
      },
      "execution_count": 21,
      "outputs": []
    },
    {
      "cell_type": "code",
      "source": [
        "washing.compute()"
      ],
      "metadata": {
        "id": "j2fL7XKHwA4S"
      },
      "execution_count": 22,
      "outputs": []
    },
    {
      "cell_type": "code",
      "source": [
        "print(f\"Recommended Wash Time: {washing.output['Wash Time']} minutes\")"
      ],
      "metadata": {
        "colab": {
          "base_uri": "https://localhost:8080/"
        },
        "id": "hm-RQFLpwBO3",
        "outputId": "94b598bc-85e9-44de-ea96-91415f705c69"
      },
      "execution_count": 23,
      "outputs": [
        {
          "output_type": "stream",
          "name": "stdout",
          "text": [
            "Recommended Wash Time: 21.134014078421217 minutes\n"
          ]
        }
      ]
    },
    {
      "cell_type": "markdown",
      "source": [
        "#*CONCLUSION*\n",
        "\n",
        "*In this implementation, we successfully designed a fuzzy logic controller for a washing machine that dynamically determines wash time based on varying levels of dirt and grease. By defining clear membership functions for our inputs (dirt and grease) and output (wash time), we created a robust framework that captures the inherent uncertainties in these parameters. The fuzzy rules we established allow for nuanced decision-making, enabling the washing machine to adapt its wash cycle effectively based on the input conditions.*\n",
        "\n",
        "*In summary, the integration of fuzzy logic into the washing machine control system demonstrates how we can leverage computational intelligence to improve everyday tasks, paving the way for smarter, more responsive home appliances. If further refinement is required, adjustments to membership functions and rule sets can enhance the accuracy and efficiency of the system even more, showcasing the flexibility and scalability of fuzzy logic applications in real-world scenarios*"
      ],
      "metadata": {
        "id": "cdA7f33fwnyG"
      }
    }
  ]
}