{
  "nbformat": 4,
  "nbformat_minor": 0,
  "metadata": {
    "colab": {
      "provenance": []
    },
    "kernelspec": {
      "name": "python3",
      "display_name": "Python 3"
    },
    "language_info": {
      "name": "python"
    }
  },
  "cells": [
    {
      "cell_type": "markdown",
      "source": [
        "#*Water Jug Problem*\n",
        "Two jugs with 3L and 7L Liquid Present Respectively.\n",
        "Mix and Arrange so that u can measure 6L Volume."
      ],
      "metadata": {
        "id": "tbTpKUNfIlMG"
      }
    },
    {
      "cell_type": "code",
      "execution_count": null,
      "metadata": {
        "id": "YPISmTzMH0ph"
      },
      "outputs": [],
      "source": [
        "def movegen (state, jug1_capacity, jug2_capacity):\n",
        "    jug1, jug2 = state\n",
        "    moves = []\n",
        "    moves.append((jug1_capacity, jug2))\n",
        "    moves.append((jug1, jug2_capacity))\n",
        "    moves.append((0, jug2))\n",
        "    moves.append((jug1, 0))\n",
        "    pour1_to_2 = min(jug1, jug2_capacity - jug2)\n",
        "    moves.append((jug1 - pour1_to_2, jug2 + pour1_to_2))\n",
        "    pour2_to_1 = min(jug2, jug1_capacity - jug1)\n",
        "    moves.append((jug1 + pour2_to_1, jug2 - pour2_to_1))\n",
        "    return moves"
      ]
    },
    {
      "cell_type": "code",
      "source": [
        "def goaltest (state, goal): return state [0] == goal or state [1] == goal\n"
      ],
      "metadata": {
        "id": "Ok2TwcwSQFux"
      },
      "execution_count": null,
      "outputs": []
    },
    {
      "cell_type": "code",
      "source": [
        "def water_jug_solver(jug1_capacity, jug2_capacity, goal):\n",
        "    from collections import deque\n",
        "    def bfs(start_state):\n",
        "        queue = deque ([(start_state, [])])\n",
        "        while queue:\n",
        "            visited = set()\n",
        "            state, path = queue.popleft()\n",
        "            if goaltest(state, goal):\n",
        "                return path + [state]\n",
        "            visited.add(state)\n",
        "            for move in movegen (state, jug1_capacity, jug2_capacity):\n",
        "                if move not in visited:\n",
        "                    queue.append((move, path + [state]))\n",
        "        return None\n",
        "    start_state = (0,0)\n",
        "    solution = bfs (start_state)\n",
        "    if solution:\n",
        "        for step in solution: print(step)\n",
        "    else:\n",
        "        print(\"No Solution Found\")\n",
        "\n",
        "water_jug_solver(3,7,6)"
      ],
      "metadata": {
        "colab": {
          "base_uri": "https://localhost:8080/"
        },
        "id": "Vv6ogcr7To7X",
        "outputId": "603f0553-1882-47a5-a46f-400c49bca654"
      },
      "execution_count": null,
      "outputs": [
        {
          "output_type": "stream",
          "name": "stdout",
          "text": [
            "(0, 0)\n",
            "(3, 0)\n",
            "(0, 3)\n",
            "(3, 3)\n",
            "(0, 6)\n"
          ]
        }
      ]
    },
    {
      "cell_type": "markdown",
      "source": [
        "#*Travelling Salesman Problem*\n",
        "\n",
        "Salesperson must visit every possible city before returning to the origin city. Every city can be visited only once!"
      ],
      "metadata": {
        "id": "wP32U5siMrBH"
      }
    },
    {
      "cell_type": "code",
      "source": [
        "def move_gen(current_city, cities_left):\n",
        "    possible_moves = []\n",
        "    for city in cities_left:\n",
        "        possible_moves.append(city)\n",
        "    return possible_moves\n"
      ],
      "metadata": {
        "id": "HQhMuYUJOsQD"
      },
      "execution_count": null,
      "outputs": []
    },
    {
      "cell_type": "code",
      "source": [
        "def goal_test(tour, total_cities):\n",
        "    return len(tour) == total_cities and tour[0] == tour[-1]\n"
      ],
      "metadata": {
        "id": "7PJFbDb_QQHn"
      },
      "execution_count": null,
      "outputs": []
    },
    {
      "cell_type": "code",
      "source": [
        "import math\n",
        "def distance (point1, point2): return abs ((point1 [0] - point2[0]) + (point1 [1] - point2[1]))\n",
        "\n",
        "def tsp_dfid (cities, depth_limit):\n",
        "    n = len(cities)\n",
        "    optimal_tour = None\n",
        "    optimal_length = float(\"inf\")\n",
        "    def dfs(path, visited, current_length, depth):\n",
        "        nonlocal optimal_tour, optimal_length\n",
        "        current_city = path [-1]\n",
        "        print(f\"Depth: {depth}, Path: {path}, Current Length: {current_length}\")\n",
        "        if depth == 0:\n",
        "            if ( len(path) == n and current_length + distance(cities[path[-1]], cities[path[0]]) < optimal_length):\n",
        "                optimal_tour = path.copy() #This line and the following line were not indented. Indenting them will fix the error.\n",
        "                optimal_length = current_length + distance(cities[path[-1]], cities[path[0]])\n",
        "        if len(path) == n:\n",
        "            optimal_tour = path + [path[0]]\n",
        "            optimal_length = current_length + distance( cities [path [-1]], cities [path [0]] )\n",
        "            return\n",
        "        for next_city in range(n):\n",
        "            if not visited [next_city]:\n",
        "                visited [next_city] = True\n",
        "                path.append(next_city)\n",
        "                dfs( path, visited, current_length + distance (cities [current_city], cities [next_city]), depth - 1)\n",
        "                path.pop()\n",
        "                visited [next_city] = False\n",
        "    for depth in range(depth_limit):\n",
        "        print(f\"--- Iteration at Depth: {depth} ---\")\n",
        "        dfs([0], [False] * n, 0, depth)\n",
        "        if optimal_tour is not None:\n",
        "            break\n",
        "    return optimal_tour, optimal_length\n",
        "# Example usage\n",
        "cities = [(0, 0), (2, 3), (5, 4)]\n",
        "depth_limit = 3\n",
        "tour, length = tsp_dfid (cities, depth_limit)\n",
        "print(\"\\nOptimal Tour:\", tour)\n",
        "print(\"Optimal Length:\", length)"
      ],
      "metadata": {
        "colab": {
          "base_uri": "https://localhost:8080/"
        },
        "id": "s8E3gIXrXP4L",
        "outputId": "e383c44e-a323-42cd-9a41-1615b49a14f3"
      },
      "execution_count": null,
      "outputs": [
        {
          "output_type": "stream",
          "name": "stdout",
          "text": [
            "--- Iteration at Depth: 0 ---\n",
            "Depth: 0, Path: [0], Current Length: 0\n",
            "Depth: -1, Path: [0, 0], Current Length: 0\n",
            "Depth: -2, Path: [0, 0, 1], Current Length: 5\n",
            "Depth: -2, Path: [0, 0, 2], Current Length: 9\n",
            "Depth: -1, Path: [0, 1], Current Length: 5\n",
            "Depth: -2, Path: [0, 1, 0], Current Length: 10\n",
            "Depth: -2, Path: [0, 1, 2], Current Length: 9\n",
            "Depth: -1, Path: [0, 2], Current Length: 9\n",
            "Depth: -2, Path: [0, 2, 0], Current Length: 18\n",
            "Depth: -2, Path: [0, 2, 1], Current Length: 13\n",
            "\n",
            "Optimal Tour: [0, 2, 1, 0]\n",
            "Optimal Length: 18\n"
          ]
        }
      ]
    },
    {
      "cell_type": "markdown",
      "source": [
        "#*8 Puzzle Problem*\n",
        "\n",
        "Consists of a 3x3 Matrix but one number is missing out of 9. Initial state is given and final state has to be reached with 4 moving order i.e up,down,left,right."
      ],
      "metadata": {
        "id": "LytGkecnQU61"
      }
    },
    {
      "cell_type": "code",
      "source": [
        "def move_gen(state):\n",
        "    possible_moves = []\n",
        "    blank_index = state.index(0)\n",
        "\n",
        "    # Determine the row and column of the blank space\n",
        "    row, col = divmod(blank_index, 3)\n",
        "\n",
        "    # Possible moves: up, down, left, right\n",
        "    moves = [(-1, 0), (1, 0), (0, -1), (0, 1)]\n",
        "\n",
        "    for move in moves:\n",
        "        new_row, new_col = row + move[0], col + move[1]\n",
        "\n",
        "        if 0 <= new_row < 3 and 0 <= new_col < 3:\n",
        "            new_index = new_row * 3 + new_col\n",
        "            new_state = state[:]\n",
        "            new_state[blank_index], new_state[new_index] = new_state[new_index], new_state[blank_index]\n",
        "            possible_moves.append(new_state)\n",
        "\n",
        "    return possible_moves\n"
      ],
      "metadata": {
        "id": "5xeQsuZwYNDW"
      },
      "execution_count": null,
      "outputs": []
    },
    {
      "cell_type": "code",
      "source": [
        "def goal_test(state, goal_state):\n",
        "    return state == goal_state\n"
      ],
      "metadata": {
        "id": "ZtQCidAwQtU5"
      },
      "execution_count": null,
      "outputs": []
    },
    {
      "cell_type": "code",
      "source": [
        "from collections import deque\n",
        "# Define the goal state\n",
        "GOAL_STATE = ((1, 2, 3), (4, 5, 6), (7,8, 0))\n",
        "\n",
        "def isGoalState (state):\n",
        "    return state == GOAL_STATE\n",
        "\n",
        "def get_possible_moves (state):\n",
        "    moves = []\n",
        "    zero_pos = [(i, row.index(0)) for i, row in enumerate (state) if 0 in row][0]\n",
        "    i, j = zero_pos\n",
        "    if i > 0: # Move blank tile up\n",
        "        moves.append((i - 1, j))\n",
        "    if i < 2: # Move blank tile down\n",
        "        moves.append((i + 1, j))\n",
        "    if j > 0: # Move blank tile left\n",
        "        moves.append((i, j - 1))\n",
        "    if j < 2: # Move blank tile right\n",
        "        moves.append((i, j + 1))\n",
        "    return moves\n",
        "\n",
        "def move_blank (state, from_pos, to_pos):\n",
        "    state_list = [list(row) for row in state]\n",
        "    zero_i, zero_j = from_pos\n",
        "    new_i, new_j = to_pos\n",
        "    state_list [zero_i] [zero_j], state_list [new_i] [new_j] = ( state_list [new_i] [new_j], state_list [zero_i] [zero_j], )\n",
        "    return tuple (tuple (row) for row in state_list)\n",
        "# Std DFS Implementation\n",
        "def dfs(state, depth, path, visited):\n",
        "  if isGoalState(state):\n",
        "    return path\n",
        "  if depth == 0:\n",
        "    return None\n",
        "  visited.add(state)\n",
        "  zero_pos = [(i, row.index(0)) for i, row in enumerate (state) if 0 in row][0]\n",
        "  for move in get_possible_moves (state):\n",
        "    new_state = move_blank(state, zero_pos, move)\n",
        "    if new_state not in visited:\n",
        "      result = dfs(new_state, depth - 1, path + [new_state], visited)\n",
        "      if result:\n",
        "        return result\n",
        "def depth_limited_search(start_state, depth_limit):\n",
        "    visited = set()\n",
        "    return dfs(start_state, depth_limit, [start_state], visited)\n",
        "def dfid(start_state):\n",
        "    depth_limit = 0\n",
        "    while True:\n",
        "        result = depth_limited_search(start_state, depth_limit)\n",
        "        if result:\n",
        "            return result\n",
        "        depth_limit += 1\n",
        "# Example usage:\n",
        "start_state = ((1, 8, 2), (0, 4, 3), (7, 6, 5))\n",
        "# NOTE: Start state can be unsolveable if the number of inversions is odd ir\n",
        "solution_path = dfid(start_state)\n",
        "# Print final tuple\n",
        "if solution_path:\n",
        "    print(\"Solution path:\")\n",
        "    for state in solution_path:\n",
        "        for row in state:\n",
        "            print(row)\n",
        "        print()\n",
        "else:\n",
        "    print(\"No solution found.\")"
      ],
      "metadata": {
        "colab": {
          "base_uri": "https://localhost:8080/"
        },
        "id": "4UEfUTx9QqEB",
        "outputId": "7c5b69e7-add8-4003-d885-9618407e6cbf"
      },
      "execution_count": null,
      "outputs": [
        {
          "output_type": "stream",
          "name": "stdout",
          "text": [
            "Solution path:\n",
            "(1, 8, 2)\n",
            "(0, 4, 3)\n",
            "(7, 6, 5)\n",
            "\n",
            "(1, 8, 2)\n",
            "(4, 0, 3)\n",
            "(7, 6, 5)\n",
            "\n",
            "(1, 0, 2)\n",
            "(4, 8, 3)\n",
            "(7, 6, 5)\n",
            "\n",
            "(1, 2, 0)\n",
            "(4, 8, 3)\n",
            "(7, 6, 5)\n",
            "\n",
            "(1, 2, 3)\n",
            "(4, 8, 0)\n",
            "(7, 6, 5)\n",
            "\n",
            "(1, 2, 3)\n",
            "(4, 8, 5)\n",
            "(7, 6, 0)\n",
            "\n",
            "(1, 2, 3)\n",
            "(4, 8, 5)\n",
            "(7, 0, 6)\n",
            "\n",
            "(1, 2, 3)\n",
            "(4, 0, 5)\n",
            "(7, 8, 6)\n",
            "\n",
            "(1, 2, 3)\n",
            "(4, 5, 0)\n",
            "(7, 8, 6)\n",
            "\n",
            "(1, 2, 3)\n",
            "(4, 5, 6)\n",
            "(7, 8, 0)\n",
            "\n"
          ]
        }
      ]
    }
  ]
}