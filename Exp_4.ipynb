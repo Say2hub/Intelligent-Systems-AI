{
  "nbformat": 4,
  "nbformat_minor": 0,
  "metadata": {
    "colab": {
      "provenance": []
    },
    "kernelspec": {
      "name": "python3",
      "display_name": "Python 3"
    },
    "language_info": {
      "name": "python"
    }
  },
  "cells": [
    {
      "cell_type": "code",
      "source": [
        "import numpy as np\n",
        "import pandas as pd\n",
        "import seaborn as sns\n",
        "import matplotlib.pyplot as plt\n",
        "%matplotlib inline\n",
        "\n",
        "import os\n",
        "import random\n",
        "import time\n",
        "import sys\n",
        "\n",
        "import warnings\n",
        "warnings.filterwarnings('ignore')"
      ],
      "metadata": {
        "id": "ar0iD6gVH4rj"
      },
      "execution_count": null,
      "outputs": []
    },
    {
      "cell_type": "code",
      "source": [
        "def generate_cities(num_cities):\n",
        "    cities = np.random.rand(num_cities, 2)\n",
        "    return cities"
      ],
      "metadata": {
        "id": "YzQSK6yYG-_3"
      },
      "execution_count": null,
      "outputs": []
    },
    {
      "cell_type": "code",
      "source": [
        "def distance(city1, city2):\n",
        "    return np.sqrt(np.sum((city1 - city2)**2))"
      ],
      "metadata": {
        "id": "4qd0YPDOG-7l"
      },
      "execution_count": null,
      "outputs": []
    },
    {
      "cell_type": "code",
      "source": [
        "def calculate_fitness(chromosome, cities):\n",
        "    fitness = 0\n",
        "    for i in range(len(chromosome) - 1):\n",
        "        fitness += distance(cities[chromosome[i]], cities[chromosome[i+1]])\n",
        "    fitness += distance(cities[chromosome[-1]], cities[chromosome[0]])\n",
        "    return fitness"
      ],
      "metadata": {
        "id": "5JUeF2B4G-5b"
      },
      "execution_count": null,
      "outputs": []
    },
    {
      "cell_type": "code",
      "source": [
        "def generate_population(pop_size, num_cities):\n",
        "    population = []\n",
        "    for _ in range(pop_size):\n",
        "        chromosome = list(np.random.permutation(num_cities))\n",
        "        population.append(chromosome)\n",
        "    return population"
      ],
      "metadata": {
        "id": "D01oS12RHFUo"
      },
      "execution_count": null,
      "outputs": []
    },
    {
      "cell_type": "code",
      "source": [
        "def selection(population, fitnesses, tournament_size=3):\n",
        "    selected = random.sample(list(zip(population, fitnesses)), tournament_size)\n",
        "    selected.sort(key=lambda x: x[1])\n",
        "    return selected[0][0]"
      ],
      "metadata": {
        "id": "DldsMpvMHFSb"
      },
      "execution_count": null,
      "outputs": []
    },
    {
      "cell_type": "code",
      "source": [
        "def cyclic_crossover(parent1, parent2):\n",
        "    size = len(parent1)\n",
        "    child = [None] * size\n",
        "    cycle_idx = 0\n",
        "    start = 0\n",
        "\n",
        "    while None in child:\n",
        "        current = start\n",
        "        cycle_value = parent1[start]\n",
        "\n",
        "        while child[current] is None:\n",
        "            child[current] = parent1[current]\n",
        "            current = parent1.index(parent2[current])\n",
        "\n",
        "        for i in range(size):\n",
        "            if child[i] is None:\n",
        "                start = i\n",
        "                break\n",
        "        cycle_idx += 1\n",
        "\n",
        "    return child"
      ],
      "metadata": {
        "id": "yXvHr_WXHFQB"
      },
      "execution_count": null,
      "outputs": []
    },
    {
      "cell_type": "code",
      "source": [
        "def ordinal_crossover(parent1, parent2):\n",
        "    size = len(parent1)\n",
        "    child = [None] * size\n",
        "    index_map = [None] * size\n",
        "\n",
        "    for i in range(size):\n",
        "        index_map[parent1[i]] = i\n",
        "\n",
        "    for i in range(size):\n",
        "        pos = index_map[parent2[i]]\n",
        "        while child[pos] is not None:\n",
        "            pos = (pos + 1) % size\n",
        "        child[pos] = parent2[i]\n",
        "\n",
        "    return child"
      ],
      "metadata": {
        "id": "Dse6HIFJIZii"
      },
      "execution_count": null,
      "outputs": []
    },
    {
      "cell_type": "code",
      "source": [
        "def mutate(chromosome, mutation_rate=0.1):\n",
        "    if random.random() < mutation_rate:\n",
        "        i, j = random.sample(range(len(chromosome)), 2)\n",
        "        chromosome[i], chromosome[j] = chromosome[j], chromosome[i]\n",
        "    return chromosome"
      ],
      "metadata": {
        "id": "ooaXn6WYHFN3"
      },
      "execution_count": null,
      "outputs": []
    },
    {
      "cell_type": "code",
      "source": [
        "def genetic_algorithm(num_cities, crossover_type='cyclic', pop_size=100, generations=1000, mutation_rate=0.1):\n",
        "    cities = generate_cities(num_cities)\n",
        "    population = generate_population(pop_size, num_cities)\n",
        "    best_fitness = float('inf')\n",
        "    best_solution = None\n",
        "\n",
        "    for generation in range(generations):\n",
        "        fitnesses = [calculate_fitness(chromosome, cities) for chromosome in population]\n",
        "        new_population = []\n",
        "\n",
        "        for _ in range(pop_size // 2):\n",
        "            parent1 = selection(population, fitnesses)\n",
        "            parent2 = selection(population, fitnesses)\n",
        "\n",
        "            if crossover_type == 'cyclic':\n",
        "                child1 = cyclic_crossover(parent1, parent2)\n",
        "                child2 = cyclic_crossover(parent2, parent1)\n",
        "            elif crossover_type == 'ordinal':\n",
        "                child1 = ordinal_crossover(parent1, parent2)\n",
        "                child2 = ordinal_crossover(parent2, parent1)\n",
        "\n",
        "            child1 = mutate(child1, mutation_rate)\n",
        "            child2 = mutate(child2, mutation_rate)\n",
        "\n",
        "            new_population.append(child1)\n",
        "            new_population.append(child2)\n",
        "\n",
        "        population = new_population\n",
        "\n",
        "        generation_best_fitness = min(fitnesses)\n",
        "        if generation_best_fitness < best_fitness:\n",
        "            best_fitness = generation_best_fitness\n",
        "            best_solution = population[fitnesses.index(best_fitness)]\n",
        "\n",
        "    return best_solution, best_fitness"
      ],
      "metadata": {
        "id": "JEA149GJIhXy"
      },
      "execution_count": null,
      "outputs": []
    },
    {
      "cell_type": "code",
      "source": [
        "def compare_crossover_time(num_cities=10, generations=1000):\n",
        "    print(f\"Running comparison for {num_cities} cities...\")\n",
        "\n",
        "    start_time = time.time()\n",
        "    genetic_algorithm(num_cities=num_cities, crossover_type='cyclic', generations=generations)\n",
        "    cyclic_time = time.time() - start_time\n",
        "    print(f\"Cyclic Crossover Time: {cyclic_time:.4f} seconds\")\n",
        "\n",
        "    start_time = time.time()\n",
        "    genetic_algorithm(num_cities=num_cities, crossover_type='ordinal', generations=generations)\n",
        "    ordinal_time = time.time() - start_time\n",
        "    print(f\"Ordinal Crossover Time: {ordinal_time:.4f} seconds\")\n",
        "\n",
        "    return cyclic_time, ordinal_time"
      ],
      "metadata": {
        "id": "WoQKdL7XIliU"
      },
      "execution_count": null,
      "outputs": []
    },
    {
      "cell_type": "code",
      "source": [
        "def measure_space_complexity():\n",
        "    sample_population = generate_population(100, 10)\n",
        "    cyclic_size = sys.getsizeof(cyclic_crossover(sample_population[0], sample_population[1]))\n",
        "    ordinal_size = sys.getsizeof(ordinal_crossover(sample_population[0], sample_population[1]))\n",
        "\n",
        "    print(f\"Memory used by Cyclic Crossover: {cyclic_size} bytes\")\n",
        "    print(f\"Memory used by Ordinal Crossover: {ordinal_size} bytes\")\n",
        "\n",
        "    return cyclic_size, ordinal_size"
      ],
      "metadata": {
        "id": "0rZO6iphIlgd"
      },
      "execution_count": null,
      "outputs": []
    },
    {
      "cell_type": "code",
      "source": [
        "if __name__ == \"__main__\":\n",
        "    compare_crossover_time(num_cities=10, generations=1000)\n",
        "    measure_space_complexity()"
      ],
      "metadata": {
        "colab": {
          "base_uri": "https://localhost:8080/"
        },
        "id": "4g4-7QEtIleY",
        "outputId": "aa52f74b-ad9a-4f72-a118-7a8ce1fd5c4a"
      },
      "execution_count": null,
      "outputs": [
        {
          "output_type": "stream",
          "name": "stdout",
          "text": [
            "Running comparison for 10 cities...\n",
            "Cyclic Crossover Time: 11.0496 seconds\n",
            "Ordinal Crossover Time: 9.6903 seconds\n",
            "Memory used by Cyclic Crossover: 136 bytes\n",
            "Memory used by Ordinal Crossover: 136 bytes\n"
          ]
        }
      ]
    },
    {
      "cell_type": "code",
      "source": [
        "def run_experiments():\n",
        "    city_sizes = [5, 10, 20, 40]\n",
        "    for city_size in city_sizes:\n",
        "        print(f\"\\nRunning GA for {city_size} cities...\")\n",
        "        best_solution, best_fitness = genetic_algorithm(num_cities=city_size)\n",
        "        print(f\"Best path for {city_size} cities has fitness {best_fitness:.4f}\")"
      ],
      "metadata": {
        "id": "KH-duqatHjzw"
      },
      "execution_count": null,
      "outputs": []
    },
    {
      "cell_type": "code",
      "source": [
        "if __name__ == \"__main__\":\n",
        "    run_experiments()"
      ],
      "metadata": {
        "id": "SwLnvj7mIdU9",
        "colab": {
          "base_uri": "https://localhost:8080/"
        },
        "outputId": "21662d0c-1e2a-4ebb-fa6c-b5305fa915cf"
      },
      "execution_count": null,
      "outputs": [
        {
          "output_type": "stream",
          "name": "stdout",
          "text": [
            "\n",
            "Running GA for 5 cities...\n",
            "Best path for 5 cities has fitness 1.9902\n",
            "\n",
            "Running GA for 10 cities...\n",
            "Best path for 10 cities has fitness 2.8387\n",
            "\n",
            "Running GA for 20 cities...\n",
            "Best path for 20 cities has fitness 5.1589\n",
            "\n",
            "Running GA for 40 cities...\n",
            "Best path for 40 cities has fitness 7.2633\n"
          ]
        }
      ]
    },
    {
      "cell_type": "markdown",
      "source": [
        "##**CONCLUSION**"
      ],
      "metadata": {
        "id": "Osf_oUFYMIVQ"
      }
    },
    {
      "cell_type": "markdown",
      "source": [
        "The genetic algorithm successfully finds near-optimal solutions for the Traveling Salesperson Problem (TSP) by iteratively evolving a population of potential solutions.\n",
        "\n",
        "The algorithm utilizes key components like generating a random population, calculating fitness, selecting parents, applying crossover operators (cyclic and ordinal), and mutating offspring.\n",
        "\n",
        "Cyclic crossover and ordinal crossover were compared in terms of time complexity and space complexity.\n",
        "\n",
        "The results show that cyclic crossover generally performs better in terms of time complexity, while ordinal crossover exhibits slightly lower space complexity.\n",
        "\n",
        "The choice between the two crossover operators depends on the specific constraints of the problem and the available resources.\n",
        "\n",
        "Increasing the number of cities generally increases the complexity of the problem, requiring more generations and potentially a larger population size for convergence.\n",
        "\n",
        "This implementation provides a basic framework for solving the TSP using a genetic algorithm. Further enhancements could include exploring different crossover operators, mutation strategies, selection methods, and population size adjustments to optimize performance for specific problem instances."
      ],
      "metadata": {
        "id": "UUrtAHiYMH1e"
      }
    }
  ]
}