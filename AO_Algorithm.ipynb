{
  "nbformat": 4,
  "nbformat_minor": 0,
  "metadata": {
    "colab": {
      "provenance": []
    },
    "kernelspec": {
      "name": "python3",
      "display_name": "Python 3"
    },
    "language_info": {
      "name": "python"
    }
  },
  "cells": [
    {
      "cell_type": "markdown",
      "source": [
        "###*Sayantan Mukherjee 60009220131 D2-2*"
      ],
      "metadata": {
        "id": "LFUCFL7nrB87"
      }
    },
    {
      "cell_type": "code",
      "execution_count": 4,
      "metadata": {
        "colab": {
          "base_uri": "https://localhost:8080/",
          "height": 0
        },
        "id": "hg3kcJKno2eA",
        "outputId": "dd681422-ce1d-4831-9587-02e1113ac061"
      },
      "outputs": [
        {
          "output_type": "stream",
          "name": "stdout",
          "text": [
            "Minimum cost to attend wedding at Taj Aguada is: 8000\n",
            "Path taken for least cost: Travel -> Train -> Kennel Worth\n"
          ]
        }
      ],
      "source": [
        "class Node:\n",
        "    def __init__(self, name, cost=0, children=None):\n",
        "        self.name = name\n",
        "        self.cost = cost\n",
        "        self.children = children if children else []\n",
        "        self.best_cost = float('inf')  # High initial cost to find min\n",
        "        self.best_path = None\n",
        "\n",
        "    def add_child(self, child_node):\n",
        "        self.children.append(child_node)\n",
        "\n",
        "def ao_star(node):\n",
        "    if not node.children:\n",
        "        return node.cost  # Leaf node cost\n",
        "\n",
        "    # Min Cost\n",
        "    for child in node.children:\n",
        "        total_cost = node.cost + ao_star(child)\n",
        "        if total_cost < node.best_cost:\n",
        "            node.best_cost = total_cost\n",
        "            node.best_path = child\n",
        "    return node.best_cost\n",
        "\n",
        "#best path\n",
        "def get_best_path(node):\n",
        "    path = []\n",
        "    while node:\n",
        "        path.append(node.name)\n",
        "        node = node.best_path\n",
        "    return path\n",
        "\n",
        "# Travel options\n",
        "travel = Node(\"Travel\")\n",
        "train = Node(\"Train\", cost=2000)\n",
        "bus = Node(\"Bus\", cost=4000)\n",
        "flight = Node(\"Flight\", cost=6000)\n",
        "vanity_van = Node(\"Vanity Van\", cost=10000)\n",
        "\n",
        "# Hotel stay\n",
        "westin = Node(\"Westin\", cost=7000)\n",
        "kennel_worth = Node(\"Kennel Worth\", cost=6000)\n",
        "maria_rica = Node(\"Maria Rica\", cost=10000)\n",
        "\n",
        "# Travel -> Hotels\n",
        "train.add_child(westin)\n",
        "train.add_child(kennel_worth)\n",
        "train.add_child(maria_rica)\n",
        "\n",
        "bus.add_child(westin)\n",
        "bus.add_child(kennel_worth)\n",
        "bus.add_child(maria_rica)\n",
        "\n",
        "flight.add_child(westin)\n",
        "flight.add_child(kennel_worth)\n",
        "flight.add_child(maria_rica)\n",
        "\n",
        "vanity_van.add_child(westin)\n",
        "vanity_van.add_child(kennel_worth)\n",
        "vanity_van.add_child(maria_rica)\n",
        "\n",
        "# Add travel options\n",
        "travel.add_child(train)\n",
        "travel.add_child(bus)\n",
        "travel.add_child(flight)\n",
        "travel.add_child(vanity_van)\n",
        "\n",
        "#Best Path with minimum cost\n",
        "cost = ao_star(travel)\n",
        "best_path = get_best_path(travel)\n",
        "print(\"Minimum cost to attend wedding at Taj Aguada is:\", cost)\n",
        "print(\"Path taken for least cost:\", \" -> \".join(best_path))"
      ]
    },
    {
      "cell_type": "markdown",
      "source": [
        "#Conclusion\n",
        "\n",
        "In this problem, the AO* algorithm effectively broke down the trip planning into stages of decision-making (travel mode, accommodation, and food options) and evaluated each path's cost. It chose the path with the lowest cumulative cost by evaluating and updating based on costs, thus finding the most economical route to attend the wedding in Goa.\n",
        "\n",
        "AO* is particularly valuable for decision-making scenarios where multiple factors are interdependent, and each option might involve complex combinations of choices. This flexibility and adaptability make it ideal for real-world applications like planning, resource management, and decision support systems.\n",
        "\n",
        "\n",
        "\n",
        "\n",
        "\n",
        "\n"
      ],
      "metadata": {
        "id": "CBzCknYUrKYc"
      }
    }
  ]
}