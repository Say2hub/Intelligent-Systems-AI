{
  "nbformat": 4,
  "nbformat_minor": 0,
  "metadata": {
    "colab": {
      "provenance": []
    },
    "kernelspec": {
      "name": "python3",
      "display_name": "Python 3"
    },
    "language_info": {
      "name": "python"
    }
  },
  "cells": [
    {
      "cell_type": "markdown",
      "source": [
        "###*Sayantan Mukherjee 60009220131 D2-2*"
      ],
      "metadata": {
        "id": "IM85pZq7yQa-"
      }
    },
    {
      "cell_type": "code",
      "execution_count": 1,
      "metadata": {
        "id": "_mhZDiKxyLDA"
      },
      "outputs": [],
      "source": [
        "import math\n",
        "def print_board(board):\n",
        "    for row in board:\n",
        "        print(\"|\".join(row))\n",
        "        print(\"-\" * 5)"
      ]
    },
    {
      "cell_type": "markdown",
      "source": [
        "###*All winning Conditions Explored*"
      ],
      "metadata": {
        "id": "DOb9AwERyxVt"
      }
    },
    {
      "cell_type": "code",
      "source": [
        "def check_winner(board, player):\n",
        "    win_conditions = [\n",
        "        [board[0][0], board[0][1], board[0][2]],  # First row\n",
        "        [board[1][0], board[1][1], board[1][2]],  # Second row\n",
        "        [board[2][0], board[2][1], board[2][2]],  # Third row\n",
        "        [board[0][0], board[1][0], board[2][0]],  # First column\n",
        "        [board[0][1], board[1][1], board[2][1]],  # Second column\n",
        "        [board[0][2], board[1][2], board[2][2]],  # Third column\n",
        "        [board[0][0], board[1][1], board[2][2]],  # Diagonal left to right\n",
        "        [board[0][2], board[1][1], board[2][0]],  # Diagonal right to left\n",
        "    ]\n",
        "    if [player, player, player] in win_conditions:\n",
        "        return True\n",
        "    return False"
      ],
      "metadata": {
        "id": "Qe_Id4TIynuo"
      },
      "execution_count": 2,
      "outputs": []
    },
    {
      "cell_type": "code",
      "source": [
        "#Check if all squares are filled or not\n",
        "def is_moves_left(board):\n",
        "    for row in board:\n",
        "        if ' ' in row:\n",
        "            return True\n",
        "    return False"
      ],
      "metadata": {
        "id": "r2sy13k1y2Pp"
      },
      "execution_count": 3,
      "outputs": []
    },
    {
      "cell_type": "markdown",
      "source": [
        "#*Mini-Max Algorithm*"
      ],
      "metadata": {
        "id": "odq-jcmyzSnS"
      }
    },
    {
      "cell_type": "code",
      "source": [
        "def minimax(board, depth, is_max):\n",
        "    if check_winner(board, 'O'):  # Computer wins\n",
        "        return 10 - depth\n",
        "    if check_winner(board, 'X'):  # Human wins\n",
        "        return depth - 10\n",
        "    if not is_moves_left(board):  # Tie\n",
        "        return 0\n",
        "\n",
        "    if is_max:\n",
        "        best = -math.inf\n",
        "        for i in range(3):\n",
        "            for j in range(3):\n",
        "                if board[i][j] == ' ':\n",
        "                    board[i][j] = 'O'\n",
        "                    best = max(best, minimax(board, depth + 1, not is_max))\n",
        "                    board[i][j] = ' '\n",
        "        return best\n",
        "    else:\n",
        "        best = math.inf\n",
        "        for i in range(3):\n",
        "            for j in range(3):\n",
        "                if board[i][j] == ' ':\n",
        "                    board[i][j] = 'X'\n",
        "                    best = min(best, minimax(board, depth + 1, not is_max))\n",
        "                    board[i][j] = ' '\n",
        "        return best"
      ],
      "metadata": {
        "id": "MHJsbIT6zC2_"
      },
      "execution_count": 4,
      "outputs": []
    },
    {
      "cell_type": "markdown",
      "source": [
        "###*Algo of Computer Play*"
      ],
      "metadata": {
        "id": "p-y_epMizkrB"
      }
    },
    {
      "cell_type": "code",
      "source": [
        "def find_best_move(board):\n",
        "    best_val = -math.inf\n",
        "    best_move = (-1, -1)\n",
        "    for i in range(3):\n",
        "        for j in range(3):\n",
        "            if board[i][j] == ' ':\n",
        "                board[i][j] = 'O'\n",
        "                move_val = minimax(board, 0, False)\n",
        "                board[i][j] = ' '\n",
        "                if move_val > best_val:\n",
        "                    best_move = (i, j)\n",
        "                    best_val = move_val\n",
        "    return best_move\n"
      ],
      "metadata": {
        "id": "pDo07cdCzi1r"
      },
      "execution_count": 5,
      "outputs": []
    },
    {
      "cell_type": "markdown",
      "source": [
        "#*Main Game Function*"
      ],
      "metadata": {
        "id": "7y-vb4rRzzFx"
      }
    },
    {
      "cell_type": "code",
      "source": [
        "def tic_tac_toe():\n",
        "    board = [[' ' for _ in range(3)] for _ in range(3)]\n",
        "    print(\"Tic-Tac-Toe Game! You (X) vs Computer (O)\")\n",
        "    print_board(board)\n",
        "\n",
        "    while True:\n",
        "        # Human move\n",
        "        while True:\n",
        "            row, col = map(int, input(\"Enter your move (row and column): \").split())\n",
        "            if board[row][col] == ' ':\n",
        "                board[row][col] = 'X'\n",
        "                break\n",
        "            else:\n",
        "                print(\"Invalid move! Try again.\")\n",
        "\n",
        "        print_board(board)\n",
        "\n",
        "        if check_winner(board, 'X'):\n",
        "            print(\"Congratulations! You win!\")\n",
        "            break\n",
        "\n",
        "        if not is_moves_left(board):\n",
        "            print(\"It's a tie!\")\n",
        "            break\n",
        "\n",
        "        # Computer move\n",
        "        print(\"Computer is making a move...\")\n",
        "        row, col = find_best_move(board)\n",
        "        board[row][col] = 'O'\n",
        "        print_board(board)\n",
        "\n",
        "        if check_winner(board, 'O'):\n",
        "            print(\"Computer wins! Better luck next time.\")\n",
        "            break\n",
        "\n",
        "        if not is_moves_left(board):\n",
        "            print(\"It's a tie!\")\n",
        "            break"
      ],
      "metadata": {
        "id": "eeZaYr_hzo8u"
      },
      "execution_count": 6,
      "outputs": []
    },
    {
      "cell_type": "markdown",
      "source": [
        "###*Let the Play Begin!*\n",
        "*How to Play? Simple : Enter any number(0-2) in format for eg: 0 2*\n",
        "*representing first row and Last Column and hopefully be victorious :)*"
      ],
      "metadata": {
        "id": "p7JgWgfqz88z"
      }
    },
    {
      "cell_type": "code",
      "source": [
        "tic_tac_toe()"
      ],
      "metadata": {
        "colab": {
          "base_uri": "https://localhost:8080/"
        },
        "id": "VTgouiaI0GzW",
        "outputId": "04d0530d-25ac-450c-e8a6-7c3b9a31a51c"
      },
      "execution_count": 10,
      "outputs": [
        {
          "output_type": "stream",
          "name": "stdout",
          "text": [
            "Tic-Tac-Toe Game! You (X) vs Computer (O)\n",
            " | | \n",
            "-----\n",
            " | | \n",
            "-----\n",
            " | | \n",
            "-----\n",
            "Enter your move (row and column): 1 1\n",
            " | | \n",
            "-----\n",
            " |X| \n",
            "-----\n",
            " | | \n",
            "-----\n",
            "Computer is making a move...\n",
            "O| | \n",
            "-----\n",
            " |X| \n",
            "-----\n",
            " | | \n",
            "-----\n",
            "Enter your move (row and column): 2 1\n",
            "O| | \n",
            "-----\n",
            " |X| \n",
            "-----\n",
            " |X| \n",
            "-----\n",
            "Computer is making a move...\n",
            "O|O| \n",
            "-----\n",
            " |X| \n",
            "-----\n",
            " |X| \n",
            "-----\n",
            "Enter your move (row and column): 0 2\n",
            "O|O|X\n",
            "-----\n",
            " |X| \n",
            "-----\n",
            " |X| \n",
            "-----\n",
            "Computer is making a move...\n",
            "O|O|X\n",
            "-----\n",
            " |X| \n",
            "-----\n",
            "O|X| \n",
            "-----\n",
            "Enter your move (row and column): 1 0\n",
            "O|O|X\n",
            "-----\n",
            "X|X| \n",
            "-----\n",
            "O|X| \n",
            "-----\n",
            "Computer is making a move...\n",
            "O|O|X\n",
            "-----\n",
            "X|X|O\n",
            "-----\n",
            "O|X| \n",
            "-----\n",
            "Enter your move (row and column): 2 2\n",
            "O|O|X\n",
            "-----\n",
            "X|X|O\n",
            "-----\n",
            "O|X|X\n",
            "-----\n",
            "It's a tie!\n"
          ]
        }
      ]
    }
  ]
}